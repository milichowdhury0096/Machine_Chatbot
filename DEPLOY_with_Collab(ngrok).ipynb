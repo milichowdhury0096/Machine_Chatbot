{
  "cells": [
    {
      "cell_type": "markdown",
      "metadata": {
        "id": "view-in-github",
        "colab_type": "text"
      },
      "source": [
        "<a href=\"https://colab.research.google.com/github/milichowdhury/Machine_Chatbot/blob/main/DEPLOY_with_Collab(ngrok).ipynb\" target=\"_parent\"><img src=\"https://colab.research.google.com/assets/colab-badge.svg\" alt=\"Open In Colab\"/></a>"
      ]
    },
    {
      "cell_type": "markdown",
      "metadata": {
        "id": "TJDdM1Lyl4Bc"
      },
      "source": [
        "# Download necessary packages"
      ]
    },
    {
      "cell_type": "code",
      "execution_count": 1,
      "metadata": {
        "id": "HvRr_eF8lkwf"
      },
      "outputs": [],
      "source": [
        "pip install -r https://raw.githubusercontent.com/milichowdhury/Machine_Chatbot/main/requirements.txt > /dev/null 2>&1"
      ]
    },
    {
      "cell_type": "markdown",
      "source": [
        "#Import libraries"
      ],
      "metadata": {
        "id": "a9WaQZKRWCnk"
      }
    },
    {
      "cell_type": "code",
      "source": [
        "import os\n",
        "import shutil\n",
        "import getpass\n",
        "import threading\n",
        "import subprocess\n",
        "from pyngrok import ngrok\n",
        "import time\n",
        "import signal"
      ],
      "metadata": {
        "id": "ntpP4SrjWCJ9"
      },
      "execution_count": 67,
      "outputs": []
    },
    {
      "cell_type": "code",
      "source": [
        "if \"GROQ_API_KEY\" not in os.environ:\n",
        "    os.environ[\"GROQ_API_KEY\"] = getpass.getpass(\"Enter your Groq API key: \")"
      ],
      "metadata": {
        "collapsed": true,
        "id": "unEuhGRWWWYl"
      },
      "execution_count": null,
      "outputs": []
    },
    {
      "cell_type": "code",
      "execution_count": null,
      "metadata": {
        "id": "jw2nOVRYRp5-",
        "collapsed": true
      },
      "outputs": [],
      "source": [
        "#CHECK if already cloned or not\n",
        "\n",
        "# Path to the directory\n",
        "directory_path = '/content/Machine_Chatbot'\n",
        "\n",
        "# Check if the directory exists\n",
        "if os.path.exists(directory_path):\n",
        "    # Deleting the Machine_Chatbot directory\n",
        "    shutil.rmtree(directory_path, ignore_errors=True)\n",
        "    print(f\"The directory '{directory_path}' has been deleted.\")\n",
        "else:\n",
        "    print(f\"The directory '{directory_path}' does not exist.\")"
      ]
    },
    {
      "cell_type": "code",
      "execution_count": null,
      "metadata": {
        "id": "TsBJdPErRy8R",
        "collapsed": true
      },
      "outputs": [],
      "source": [
        "#only required if already existed and later got deleted\n",
        "%cd /content/"
      ]
    },
    {
      "cell_type": "code",
      "execution_count": 77,
      "metadata": {
        "id": "OzuppTBcs9J5"
      },
      "outputs": [],
      "source": [
        "!git clone https://github.com/milichowdhury/Machine_Chatbot.git > /dev/null 2>&1"
      ]
    },
    {
      "cell_type": "code",
      "source": [
        "#check\n",
        "%cd /content/Machine_Chatbot"
      ],
      "metadata": {
        "collapsed": true,
        "id": "wGO5qke0dXhg"
      },
      "execution_count": null,
      "outputs": []
    },
    {
      "cell_type": "code",
      "source": [
        "# Ask for ngrok token\n",
        "ngrok_token = getpass.getpass('Enter your ngrok token: ')\n",
        "\n",
        "# Authenticate ngrok\n",
        "!ngrok authtoken {ngrok_token}"
      ],
      "metadata": {
        "collapsed": true,
        "id": "nFCfFG7RXPIO"
      },
      "execution_count": null,
      "outputs": []
    },
    {
      "cell_type": "code",
      "source": [],
      "metadata": {
        "id": "vBBGxl9Nz46V"
      },
      "execution_count": null,
      "outputs": []
    },
    {
      "cell_type": "markdown",
      "source": [
        "#Access it through tunnel where there is written ngrock-free.app and there click vist site"
      ],
      "metadata": {
        "id": "16sQeWdfz3ya"
      }
    },
    {
      "cell_type": "code",
      "source": [
        "def run_chainlit_app():\n",
        "    # Start the Chainlit app\n",
        "    subprocess.run([\"chainlit\", \"run\", \"/content/Machine_Chatbot/src/data-analysis-llm-agent/app.py\", \"--port\", \"8002\"])\n",
        "\n",
        "# Run the Chainlit app in a separate thread\n",
        "app_thread = threading.Thread(target=run_chainlit_app)\n",
        "app_thread.start()\n",
        "\n",
        "# Give some time for the app to start\n",
        "time.sleep(5)\n",
        "\n",
        "# Create a tunnel\n",
        "public_url = ngrok.connect(8002)\n",
        "\n",
        "print(f\"App is accessible at {public_url}\")"
      ],
      "metadata": {
        "collapsed": true,
        "id": "U515aqvEavJY"
      },
      "execution_count": null,
      "outputs": []
    },
    {
      "cell_type": "markdown",
      "source": [
        "# Close the chainlit browser and run this to stop the process"
      ],
      "metadata": {
        "id": "r-EiqwUuz_LU"
      }
    },
    {
      "cell_type": "code",
      "source": [
        "# Function to stop Chainlit and Ngrok\n",
        "def stop_chainlit_and_ngrok():\n",
        "    # Stop Chainlit by finding its process ID (PID)\n",
        "    chainlit_port = 8002  # The port you started Chainlit on\n",
        "    # Find the PID of the process running on port 8002 (Chainlit)\n",
        "    stream = os.popen(f\"lsof -i :{chainlit_port} -t\")\n",
        "    pid = stream.read().strip()\n",
        "\n",
        "    if pid:\n",
        "        print(f\"Stopping Chainlit (PID: {pid})...\")\n",
        "        os.kill(int(pid), signal.SIGTERM)  # Gracefully terminate the process\n",
        "        print(\"Chainlit stopped.\")\n",
        "    else:\n",
        "        print(f\"No process found on port {chainlit_port}.\")\n",
        "\n",
        "    # Stop Ngrok\n",
        "    print(\"Disconnecting Ngrok...\")\n",
        "    ngrok.kill()  # Completely shut down Ngrok\n",
        "    print(\"Ngrok disconnected and shut down.\")\n",
        "\n",
        "# Call the function to stop both Chainlit and Ngrok\n",
        "stop_chainlit_and_ngrok()\n"
      ],
      "metadata": {
        "id": "mYmhVr9KrU4f"
      },
      "execution_count": null,
      "outputs": []
    }
  ],
  "metadata": {
    "colab": {
      "provenance": [],
      "include_colab_link": true
    },
    "kernelspec": {
      "display_name": "Python 3",
      "name": "python3"
    },
    "language_info": {
      "name": "python"
    }
  },
  "nbformat": 4,
  "nbformat_minor": 0
}