{
  "cells": [
    {
      "cell_type": "markdown",
      "metadata": {
        "id": "view-in-github",
        "colab_type": "text"
      },
      "source": [
        "<a href=\"https://colab.research.google.com/github/milichowdhury/Machine_Chatbot/blob/main/DeployusingnChainlit%26ngrock.ipynb\" target=\"_parent\"><img src=\"https://colab.research.google.com/assets/colab-badge.svg\" alt=\"Open In Colab\"/></a>"
      ]
    },
    {
      "cell_type": "markdown",
      "metadata": {
        "id": "TJDdM1Lyl4Bc"
      },
      "source": [
        "# Download necessary packages"
      ]
    },
    {
      "cell_type": "code",
      "execution_count": 1,
      "metadata": {
        "id": "HvRr_eF8lkwf"
      },
      "outputs": [],
      "source": [
        "pip install -r https://raw.githubusercontent.com/milichowdhury/Machine_Chatbot/main/requirements.txt > /dev/null 2>&1"
      ]
    },
    {
      "cell_type": "markdown",
      "source": [
        "#Import libraries"
      ],
      "metadata": {
        "id": "a9WaQZKRWCnk"
      }
    },
    {
      "cell_type": "code",
      "source": [
        "import os\n",
        "import shutil\n",
        "import getpass"
      ],
      "metadata": {
        "id": "ntpP4SrjWCJ9"
      },
      "execution_count": 2,
      "outputs": []
    },
    {
      "cell_type": "markdown",
      "source": [
        "key: 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"
      ],
      "metadata": {
        "id": "faeP_jS9ZHGT"
      }
    },
    {
      "cell_type": "code",
      "source": [
        "if \"GROQ_API_KEY\" not in os.environ:\n",
        "    os.environ[\"GROQ_API_KEY\"] = getpass.getpass(\"Enter your Groq API key: \")"
      ],
      "metadata": {
        "colab": {
          "base_uri": "https://localhost:8080/"
        },
        "id": "unEuhGRWWWYl",
        "outputId": "0dfea5f8-ef76-44c8-eedf-03e954b492e2"
      },
      "execution_count": 3,
      "outputs": [
        {
          "name": "stdout",
          "output_type": "stream",
          "text": [
            "Enter your Groq API key: ··········\n"
          ]
        }
      ]
    },
    {
      "cell_type": "code",
      "execution_count": 4,
      "metadata": {
        "id": "jw2nOVRYRp5-",
        "colab": {
          "base_uri": "https://localhost:8080/"
        },
        "outputId": "a93963b6-3fe2-46e5-9efa-1b0ece9ff1ca"
      },
      "outputs": [
        {
          "output_type": "stream",
          "name": "stdout",
          "text": [
            "The directory '/content/Machine_Chatbot' does not exist.\n"
          ]
        }
      ],
      "source": [
        "#CHECK if already cloned or not\n",
        "\n",
        "# Path to the directory\n",
        "directory_path = '/content/Machine_Chatbot'\n",
        "\n",
        "# Check if the directory exists\n",
        "if os.path.exists(directory_path):\n",
        "    # Deleting the Machine_Chatbot directory\n",
        "    shutil.rmtree(directory_path, ignore_errors=True)\n",
        "    print(f\"The directory '{directory_path}' has been deleted.\")\n",
        "else:\n",
        "    print(f\"The directory '{directory_path}' does not exist.\")\n"
      ]
    },
    {
      "cell_type": "code",
      "execution_count": 7,
      "metadata": {
        "colab": {
          "base_uri": "https://localhost:8080/"
        },
        "id": "TsBJdPErRy8R",
        "outputId": "f20d92aa-d2b7-4ba2-9305-d4f1c510bec7"
      },
      "outputs": [
        {
          "output_type": "stream",
          "name": "stdout",
          "text": [
            "/content\n"
          ]
        }
      ],
      "source": [
        "#required if exist and then it deletes\n",
        "%cd /content/"
      ]
    },
    {
      "cell_type": "code",
      "execution_count": 8,
      "metadata": {
        "colab": {
          "base_uri": "https://localhost:8080/"
        },
        "id": "OzuppTBcs9J5",
        "outputId": "4b738d5d-d443-4a9f-c248-dc892b0883f0"
      },
      "outputs": [
        {
          "output_type": "stream",
          "name": "stdout",
          "text": [
            "Cloning into 'Machine_Chatbot'...\n",
            "remote: Enumerating objects: 264, done.\u001b[K\n",
            "remote: Counting objects: 100% (242/242), done.\u001b[K\n",
            "remote: Compressing objects: 100% (165/165), done.\u001b[K\n",
            "remote: Total 264 (delta 117), reused 185 (delta 73), pack-reused 22 (from 1)\u001b[K\n",
            "Receiving objects: 100% (264/264), 2.15 MiB | 8.88 MiB/s, done.\n",
            "Resolving deltas: 100% (118/118), done.\n"
          ]
        }
      ],
      "source": [
        "!git clone https://github.com/milichowdhury/Machine_Chatbot.git\n"
      ]
    },
    {
      "cell_type": "code",
      "execution_count": 9,
      "metadata": {
        "id": "lUN_ielStCxB"
      },
      "outputs": [],
      "source": [
        "!pip install pyngrok > /dev/null 2>&1"
      ]
    },
    {
      "cell_type": "markdown",
      "source": [
        "key: 2dfqYOJrZVsQXGVtUR3N1J2DQf6_6cGWWUeaVCjh7bXTQei46"
      ],
      "metadata": {
        "id": "QgvAzHyuWvWp"
      }
    },
    {
      "cell_type": "code",
      "source": [
        "# Ask for ngrok token\n",
        "ngrok_token = input('Enter your ngrok token: ')\n",
        "\n",
        "# Authenticate ngrok\n",
        "!ngrok authtoken {ngrok_token}\n"
      ],
      "metadata": {
        "colab": {
          "base_uri": "https://localhost:8080/"
        },
        "id": "nFCfFG7RXPIO",
        "outputId": "989868f9-d70f-4c12-864e-61b29afcdc97"
      },
      "execution_count": 10,
      "outputs": [
        {
          "output_type": "stream",
          "name": "stdout",
          "text": [
            "Enter your ngrok token: 2dfqYOJrZVsQXGVtUR3N1J2DQf6_6cGWWUeaVCjh7bXTQei46\n",
            "Authtoken saved to configuration file: /root/.config/ngrok/ngrok.yml\n"
          ]
        }
      ]
    },
    {
      "cell_type": "code",
      "source": [
        "import threading\n",
        "import subprocess\n",
        "from pyngrok import ngrok\n",
        "import time\n",
        "\n",
        "def run_chainlit_app():\n",
        "    # Start the Chainlit app\n",
        "    subprocess.run([\"chainlit\", \"run\", \"/content/Machine_Chatbot/src/data-analysis-llm-agent/app.py\", \"--port\", \"8002\"])\n",
        "\n",
        "# Run the Chainlit app in a separate thread\n",
        "app_thread = threading.Thread(target=run_chainlit_app)\n",
        "app_thread.start()\n",
        "\n",
        "# Give some time for the app to start\n",
        "time.sleep(5)\n",
        "\n",
        "# Create a tunnel\n",
        "public_url = ngrok.connect(8002)\n",
        "\n",
        "print(f\"App is accessible at {public_url}\")\n",
        "\n",
        "# Optional: wait for the app thread to complete (if needed)\n",
        "app_thread.join()\n"
      ],
      "metadata": {
        "colab": {
          "base_uri": "https://localhost:8080/",
          "height": 339
        },
        "id": "6qRtD-fGOjik",
        "outputId": "a4efe0d1-8c15-4916-a41b-5812f5844434"
      },
      "execution_count": 11,
      "outputs": [
        {
          "output_type": "stream",
          "name": "stdout",
          "text": [
            "App is accessible at NgrokTunnel: \"https://7b1a-104-199-237-230.ngrok-free.app\" -> \"http://localhost:8002\"\n"
          ]
        },
        {
          "output_type": "error",
          "ename": "KeyboardInterrupt",
          "evalue": "",
          "traceback": [
            "\u001b[0;31m---------------------------------------------------------------------------\u001b[0m",
            "\u001b[0;31mKeyboardInterrupt\u001b[0m                         Traceback (most recent call last)",
            "\u001b[0;32m<ipython-input-11-fea9506a1a50>\u001b[0m in \u001b[0;36m<cell line: 23>\u001b[0;34m()\u001b[0m\n\u001b[1;32m     21\u001b[0m \u001b[0;34m\u001b[0m\u001b[0m\n\u001b[1;32m     22\u001b[0m \u001b[0;31m# Optional: wait for the app thread to complete (if needed)\u001b[0m\u001b[0;34m\u001b[0m\u001b[0;34m\u001b[0m\u001b[0m\n\u001b[0;32m---> 23\u001b[0;31m \u001b[0mapp_thread\u001b[0m\u001b[0;34m.\u001b[0m\u001b[0mjoin\u001b[0m\u001b[0;34m(\u001b[0m\u001b[0;34m)\u001b[0m\u001b[0;34m\u001b[0m\u001b[0;34m\u001b[0m\u001b[0m\n\u001b[0m",
            "\u001b[0;32m/usr/lib/python3.10/threading.py\u001b[0m in \u001b[0;36mjoin\u001b[0;34m(self, timeout)\u001b[0m\n\u001b[1;32m   1094\u001b[0m \u001b[0;34m\u001b[0m\u001b[0m\n\u001b[1;32m   1095\u001b[0m         \u001b[0;32mif\u001b[0m \u001b[0mtimeout\u001b[0m \u001b[0;32mis\u001b[0m \u001b[0;32mNone\u001b[0m\u001b[0;34m:\u001b[0m\u001b[0;34m\u001b[0m\u001b[0;34m\u001b[0m\u001b[0m\n\u001b[0;32m-> 1096\u001b[0;31m             \u001b[0mself\u001b[0m\u001b[0;34m.\u001b[0m\u001b[0m_wait_for_tstate_lock\u001b[0m\u001b[0;34m(\u001b[0m\u001b[0;34m)\u001b[0m\u001b[0;34m\u001b[0m\u001b[0;34m\u001b[0m\u001b[0m\n\u001b[0m\u001b[1;32m   1097\u001b[0m         \u001b[0;32melse\u001b[0m\u001b[0;34m:\u001b[0m\u001b[0;34m\u001b[0m\u001b[0;34m\u001b[0m\u001b[0m\n\u001b[1;32m   1098\u001b[0m             \u001b[0;31m# the behavior of a negative timeout isn't documented, but\u001b[0m\u001b[0;34m\u001b[0m\u001b[0;34m\u001b[0m\u001b[0m\n",
            "\u001b[0;32m/usr/lib/python3.10/threading.py\u001b[0m in \u001b[0;36m_wait_for_tstate_lock\u001b[0;34m(self, block, timeout)\u001b[0m\n\u001b[1;32m   1114\u001b[0m \u001b[0;34m\u001b[0m\u001b[0m\n\u001b[1;32m   1115\u001b[0m         \u001b[0;32mtry\u001b[0m\u001b[0;34m:\u001b[0m\u001b[0;34m\u001b[0m\u001b[0;34m\u001b[0m\u001b[0m\n\u001b[0;32m-> 1116\u001b[0;31m             \u001b[0;32mif\u001b[0m \u001b[0mlock\u001b[0m\u001b[0;34m.\u001b[0m\u001b[0macquire\u001b[0m\u001b[0;34m(\u001b[0m\u001b[0mblock\u001b[0m\u001b[0;34m,\u001b[0m \u001b[0mtimeout\u001b[0m\u001b[0;34m)\u001b[0m\u001b[0;34m:\u001b[0m\u001b[0;34m\u001b[0m\u001b[0;34m\u001b[0m\u001b[0m\n\u001b[0m\u001b[1;32m   1117\u001b[0m                 \u001b[0mlock\u001b[0m\u001b[0;34m.\u001b[0m\u001b[0mrelease\u001b[0m\u001b[0;34m(\u001b[0m\u001b[0;34m)\u001b[0m\u001b[0;34m\u001b[0m\u001b[0;34m\u001b[0m\u001b[0m\n\u001b[1;32m   1118\u001b[0m                 \u001b[0mself\u001b[0m\u001b[0;34m.\u001b[0m\u001b[0m_stop\u001b[0m\u001b[0;34m(\u001b[0m\u001b[0;34m)\u001b[0m\u001b[0;34m\u001b[0m\u001b[0;34m\u001b[0m\u001b[0m\n",
            "\u001b[0;31mKeyboardInterrupt\u001b[0m: "
          ]
        }
      ]
    }
  ],
  "metadata": {
    "colab": {
      "provenance": [],
      "include_colab_link": true
    },
    "kernelspec": {
      "display_name": "Python 3",
      "name": "python3"
    },
    "language_info": {
      "name": "python"
    }
  },
  "nbformat": 4,
  "nbformat_minor": 0
}