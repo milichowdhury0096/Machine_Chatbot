{
  "nbformat": 4,
  "nbformat_minor": 0,
  "metadata": {
    "colab": {
      "provenance": [],
      "authorship_tag": "ABX9TyNb48eYqIVKaueXbP6f0/gy",
      "include_colab_link": true
    },
    "kernelspec": {
      "name": "python3",
      "display_name": "Python 3"
    },
    "language_info": {
      "name": "python"
    }
  },
  "cells": [
    {
      "cell_type": "markdown",
      "metadata": {
        "id": "view-in-github",
        "colab_type": "text"
      },
      "source": [
        "<a href=\"https://colab.research.google.com/github/milichowdhury/Machine_Chatbot/blob/main/Convert_csv_to_Database.ipynb\" target=\"_parent\"><img src=\"https://colab.research.google.com/assets/colab-badge.svg\" alt=\"Open In Colab\"/></a>"
      ]
    },
    {
      "cell_type": "code",
      "source": [
        "#IMPORT FILES\n",
        "import pandas as pd\n",
        "import sqlite3"
      ],
      "metadata": {
        "id": "4dIUAim3QXI0"
      },
      "execution_count": 3,
      "outputs": []
    },
    {
      "cell_type": "code",
      "execution_count": 4,
      "metadata": {
        "colab": {
          "base_uri": "https://localhost:8080/"
        },
        "id": "9XWPwdLpPWSE",
        "outputId": "c901ac3e-e66b-4013-ea3f-32978824bbdd"
      },
      "outputs": [
        {
          "output_type": "stream",
          "name": "stdout",
          "text": [
            "CSV has been converted to SQLite database successfully.\n"
          ]
        }
      ],
      "source": [
        "csv_url = \"https://raw.githubusercontent.com/milichowdhury/Machine_Chatbot/refs/heads/main/src/data/ai4i2020.csv\"\n",
        "\n",
        "df = pd.read_csv(csv_url)  # Read the CSV file into a DataFrame\n",
        "\n",
        "\n",
        "db_file = '/content/ai4i2020.db'  # Specify the path to your .db file\n",
        "connection = sqlite3.connect(db_file) #connect to sqllite\n",
        "\n",
        "df.to_sql('Machinelogs', connection, if_exists='replace', index=False) #name of table Machinelogs\n",
        "\n",
        "connection.close()\n",
        "\n",
        "print(\"CSV has been converted to SQLite database successfully.\")\n"
      ]
    },
    {
      "cell_type": "markdown",
      "source": [
        "#TEST"
      ],
      "metadata": {
        "id": "tPmLgwWxRJLa"
      }
    },
    {
      "cell_type": "code",
      "source": [
        "# Step 1: Connect to the database\n",
        "connection = sqlite3.connect(db_file)\n",
        "\n",
        "# Step 2: Create a cursor object\n",
        "cursor = connection.cursor()\n",
        "\n",
        "# Step 3: Get all tables in the database\n",
        "cursor.execute(\"SELECT name FROM sqlite_master WHERE type='table';\")\n",
        "tables = cursor.fetchall()\n",
        "\n",
        "print(\"Tables in the database:\")\n",
        "for table in tables:\n",
        "    print(table[0])\n",
        "\n",
        "# Check the column types of the 'movies' table\n",
        "table_name = 'Machinelogs'  # Update with your actual table name\n",
        "cursor.execute(f\"PRAGMA table_info({table_name});\")\n",
        "columns_info = cursor.fetchall()\n",
        "\n",
        "print(f\"\\nColumn types in the '{table_name}' table:\")\n",
        "for column in columns_info:\n",
        "    column_name = column[1]\n",
        "    data_type = column[2]\n",
        "    print(f\"Column: {column_name}, Type: {data_type}\")\n",
        "\n",
        "# Step 4: Close the connection\n",
        "connection.close()\n"
      ],
      "metadata": {
        "colab": {
          "base_uri": "https://localhost:8080/"
        },
        "id": "iEy0WZpGRSYU",
        "outputId": "105d5d11-d8ca-4243-a176-f19023a9e339"
      },
      "execution_count": 5,
      "outputs": [
        {
          "output_type": "stream",
          "name": "stdout",
          "text": [
            "Tables in the database:\n",
            "Machinelogs\n",
            "\n",
            "Column types in the 'Machinelogs' table:\n",
            "Column: UDI, Type: INTEGER\n",
            "Column: Product ID, Type: TEXT\n",
            "Column: Type, Type: TEXT\n",
            "Column: Air temperature [K], Type: REAL\n",
            "Column: Process temperature [K], Type: REAL\n",
            "Column: Rotational speed [rpm], Type: INTEGER\n",
            "Column: Torque [Nm], Type: REAL\n",
            "Column: Tool wear [min], Type: INTEGER\n",
            "Column: Machine failure, Type: INTEGER\n",
            "Column: TWF, Type: INTEGER\n",
            "Column: HDF, Type: INTEGER\n",
            "Column: PWF, Type: INTEGER\n",
            "Column: OSF, Type: INTEGER\n",
            "Column: RNF, Type: INTEGER\n"
          ]
        }
      ]
    },
    {
      "cell_type": "code",
      "source": [
        "# Step 1: Connect to the database\n",
        "connection = sqlite3.connect(db_file)\n",
        "\n",
        "# Step 2: Create a cursor object\n",
        "cursor = connection.cursor()\n",
        "\n",
        "# Step 3: Execute a query to get all tables\n",
        "cursor.execute(\"SELECT name FROM sqlite_master WHERE type='table';\")\n",
        "tables = cursor.fetchall()\n",
        "\n",
        "print(\"Tables in the database:\")\n",
        "for table in tables:\n",
        "    print(table[0])\n",
        "\n",
        "# Example of querying data from the 'Machinelogs' table and limiting to 10 rows\n",
        "cursor.execute(\"SELECT * FROM Machinelogs LIMIT 10;\")\n",
        "rows = cursor.fetchall()\n",
        "\n",
        "print(\"\\nData from 'Machinelogs' table (first 10 rows):\")\n",
        "for row in rows:\n",
        "    print(row)\n",
        "\n",
        "# Step 4: Close the connection\n",
        "connection.close()"
      ],
      "metadata": {
        "colab": {
          "base_uri": "https://localhost:8080/"
        },
        "id": "5rGrrx0JRU4D",
        "outputId": "5d17f74f-35c9-4629-ea99-33939fff8874"
      },
      "execution_count": 6,
      "outputs": [
        {
          "output_type": "stream",
          "name": "stdout",
          "text": [
            "Tables in the database:\n",
            "Machinelogs\n",
            "\n",
            "Data from 'Machinelogs' table (first 10 rows):\n",
            "(1, 'M14860', 'M', 298.1, 308.6, 1551, 42.8, 0, 0, 0, 0, 0, 0, 0)\n",
            "(2, 'L47181', 'L', 298.2, 308.7, 1408, 46.3, 3, 0, 0, 0, 0, 0, 0)\n",
            "(3, 'L47182', 'L', 298.1, 308.5, 1498, 49.4, 5, 0, 0, 0, 0, 0, 0)\n",
            "(4, 'L47183', 'L', 298.2, 308.6, 1433, 39.5, 7, 0, 0, 0, 0, 0, 0)\n",
            "(5, 'L47184', 'L', 298.2, 308.7, 1408, 40.0, 9, 0, 0, 0, 0, 0, 0)\n",
            "(6, 'M14865', 'M', 298.1, 308.6, 1425, 41.9, 11, 0, 0, 0, 0, 0, 0)\n",
            "(7, 'L47186', 'L', 298.1, 308.6, 1558, 42.4, 14, 0, 0, 0, 0, 0, 0)\n",
            "(8, 'L47187', 'L', 298.1, 308.6, 1527, 40.2, 16, 0, 0, 0, 0, 0, 0)\n",
            "(9, 'M14868', 'M', 298.3, 308.7, 1667, 28.6, 18, 0, 0, 0, 0, 0, 0)\n",
            "(10, 'M14869', 'M', 298.5, 309.0, 1741, 28.0, 21, 0, 0, 0, 0, 0, 0)\n"
          ]
        }
      ]
    }
  ]
}